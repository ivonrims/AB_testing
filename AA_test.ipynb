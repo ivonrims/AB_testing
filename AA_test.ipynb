{
 "cells": [
  {
   "cell_type": "markdown",
   "id": "d33aa95c-687f-42bd-996e-5aa442771f06",
   "metadata": {},
   "source": [
    "### Description (ENG)\n",
    "\n",
    "We have A/A test data from '2023-08-22' to '2023-08-28'. You need to do a simulation as if we ran 10,000 A/A tests. At each iteration, you need to form subsamples without repetition of 500 users from experimental groups 2 and 3. Compare these subsamples with a t-test.\n",
    "\n",
    "**Task:**\n",
    "\n",
    "1. Plot a histogram of the distribution of the resulting 10,000 p-values.\n",
    "\n",
    "2. Calculate what percentage of p-values was less than or equal to 0.05.\n",
    "\n",
    "3. Write a conclusion based on the A/A test performed, whether our splitting system works correctly."
   ]
  },
  {
   "cell_type": "markdown",
   "id": "d9aaea19-e1e8-4678-a769-fb2f4b45b7fb",
   "metadata": {
    "jupyter": {
     "source_hidden": true
    },
    "tags": []
   },
   "source": [
    "### Description (RUS)\n",
    "\n",
    "У нас есть данные А/А-теста с '2023-08-22' по '2023-08-28'. Вам нужно сделать симуляцию, как будто мы провели 10000 А/А-тестов. На каждой итерации вам нужно сформировать подвыборки без повторения в 500 юзеров из 2 и 3 экспериментальной группы. Провести сравнение этих подвыборок t-testом.\n",
    "\n",
    "**Задание:**\n",
    "\n",
    "1. Построить гистограмму распределения получившихся 10000 p-values.\n",
    "\n",
    "2. Посчитать, какой процент p values оказался меньше либо равен 0.05\n",
    "\n",
    "3. Написать вывод по проведенному А/А-тесту, корректно ли работает наша система сплитования."
   ]
  },
  {
   "cell_type": "code",
   "execution_count": 2,
   "id": "2598b4fd-7c6e-48ac-9fe6-b0ba0b83aeb0",
   "metadata": {},
   "outputs": [],
   "source": [
    "import pandas as pd\n",
    "import seaborn as sns\n",
    "%config InlineBackend.figure_format = 'retina'\n",
    "sns.set_style('darkgrid')"
   ]
  },
  {
   "cell_type": "code",
   "execution_count": 3,
   "id": "1ec163f7-d456-4eb3-bdff-69f1073cbd97",
   "metadata": {},
   "outputs": [],
   "source": [
    "import swifter # to accelerate .apply() method\n",
    "from scipy import stats\n",
    "\n",
    "import pandahouse "
   ]
  },
  {
   "cell_type": "code",
   "execution_count": 4,
   "id": "6f8d6654-dfff-4131-ae9a-d58f93a9ba9b",
   "metadata": {},
   "outputs": [],
   "source": [
    "# Connection parameters to access ClickHouse DB\n",
    "connection = {\n",
    "    'host': 'https://clickhouse.lab.karpov.courses',\n",
    "    'password': 'dpo_python_2020',\n",
    "    'user': 'student',\n",
    "    'database': 'simulator_20230920'} "
   ]
  },
  {
   "cell_type": "code",
   "execution_count": 5,
   "id": "c3e0c1b8-55e0-457c-93c5-bdefc5ad001b",
   "metadata": {},
   "outputs": [],
   "source": [
    "# Query to select data for 2, 3 experimental group at the corresponding dates\n",
    "q = \"\"\"\n",
    "SELECT exp_group, user_id, sum(action = 'like') / sum(action = 'view') as ctr\n",
    "FROM {db}.feed_actions\n",
    "WHERE toDate(time) >= '2023-08-22' AND toDate(time) <= '2023-08-28' AND exp_group IN (2, 3)\n",
    "GROUP BY exp_group, user_id\n",
    "\"\"\""
   ]
  },
  {
   "cell_type": "code",
   "execution_count": 6,
   "id": "4bbbb41b-9bbd-4f0a-ae2a-7c6f822120e7",
   "metadata": {},
   "outputs": [],
   "source": [
    "df_users = pandahouse.read_clickhouse(q, connection=connection)"
   ]
  },
  {
   "cell_type": "code",
   "execution_count": 7,
   "id": "127f7141-dbee-4ca5-bb69-c0eb902e3ca1",
   "metadata": {},
   "outputs": [
    {
     "data": {
      "text/html": [
       "<div>\n",
       "<style scoped>\n",
       "    .dataframe tbody tr th:only-of-type {\n",
       "        vertical-align: middle;\n",
       "    }\n",
       "\n",
       "    .dataframe tbody tr th {\n",
       "        vertical-align: top;\n",
       "    }\n",
       "\n",
       "    .dataframe thead th {\n",
       "        text-align: right;\n",
       "    }\n",
       "</style>\n",
       "<table border=\"1\" class=\"dataframe\">\n",
       "  <thead>\n",
       "    <tr style=\"text-align: right;\">\n",
       "      <th></th>\n",
       "      <th>exp_group</th>\n",
       "      <th>user_id</th>\n",
       "      <th>ctr</th>\n",
       "    </tr>\n",
       "  </thead>\n",
       "  <tbody>\n",
       "    <tr>\n",
       "      <th>0</th>\n",
       "      <td>3</td>\n",
       "      <td>115383</td>\n",
       "      <td>0.153226</td>\n",
       "    </tr>\n",
       "    <tr>\n",
       "      <th>1</th>\n",
       "      <td>3</td>\n",
       "      <td>10326</td>\n",
       "      <td>0.181818</td>\n",
       "    </tr>\n",
       "    <tr>\n",
       "      <th>2</th>\n",
       "      <td>3</td>\n",
       "      <td>123580</td>\n",
       "      <td>0.204918</td>\n",
       "    </tr>\n",
       "  </tbody>\n",
       "</table>\n",
       "</div>"
      ],
      "text/plain": [
       "   exp_group  user_id       ctr\n",
       "0          3   115383  0.153226\n",
       "1          3    10326  0.181818\n",
       "2          3   123580  0.204918"
      ]
     },
     "execution_count": 7,
     "metadata": {},
     "output_type": "execute_result"
    }
   ],
   "source": [
    "df_users.head(3)"
   ]
  },
  {
   "cell_type": "code",
   "execution_count": 8,
   "id": "3d02e80a-f2f5-47b1-813e-c18ded7cd28d",
   "metadata": {},
   "outputs": [],
   "source": [
    "# Let's form dataframes for 2 and 3 experimental groups\n",
    "group_2 = df_users[df_users.exp_group == 2]\n",
    "group_3 = df_users[df_users.exp_group == 3]"
   ]
  },
  {
   "cell_type": "code",
   "execution_count": 9,
   "id": "d1c21043-4084-4086-95d9-2559a192ac6d",
   "metadata": {
    "tags": []
   },
   "outputs": [],
   "source": [
    "p_values = []\n",
    "\n",
    "for i in range(0, 10000):\n",
    "    p_value = stats.ttest_ind(group_2.sample(n=500, replace=False).ctr, \n",
    "                              group_3.sample(n=500, replace=False).ctr, \n",
    "                              equal_var=False)[1]\n",
    "    p_values.append(p_value)"
   ]
  },
  {
   "cell_type": "markdown",
   "id": "25d259b7-b41e-4411-9fa7-3bd22ea34e6f",
   "metadata": {},
   "source": [
    "**Let's plot a histogram of the distribution of the resulting p-values:**"
   ]
  },
  {
   "cell_type": "code",
   "execution_count": 10,
   "id": "cb485e6a-1f63-4a04-b5ec-5efac16f91d0",
   "metadata": {},
   "outputs": [
    {
     "data": {
      "text/plain": [
       "<seaborn.axisgrid.FacetGrid at 0x7fd25b704ee0>"
      ]
     },
     "execution_count": 10,
     "metadata": {},
     "output_type": "execute_result"
    },
    {
     "data": {
      "image/png": "[encoded data removed]",
      "text/plain": [
       "<Figure size 360x360 with 1 Axes>"
      ]
     },
     "metadata": {
      "image/png": {
       "height": 352,
       "width": 352
      },
      "needs_background": "light"
     },
     "output_type": "display_data"
    }
   ],
   "source": [
    "sns.displot(p_values)"
   ]
  },
  {
   "cell_type": "code",
   "execution_count": 11,
   "id": "6c9d7bbf-40fe-4ee8-b0b3-ce13f8d9e670",
   "metadata": {},
   "outputs": [
    {
     "data": {
      "text/plain": [
       "0.0474"
      ]
     },
     "execution_count": 11,
     "metadata": {},
     "output_type": "execute_result"
    }
   ],
   "source": [
    "# Percentage of p-value less or equal than 0.05\n",
    "len(list(filter(lambda x: x <= 0.05, p_values)))/1e4"
   ]
  },
  {
   "cell_type": "markdown",
   "id": "4995c6d1-fc59-408d-b04c-6b7acd0e8436",
   "metadata": {
    "tags": []
   },
   "source": [
    "### Results\n",
    "\n",
    "Thus, when running the AA-test 10,000 times, the null hypothesis is rejected approximately 5% of the time (4.74%) $\\Rightarrow$ the splitting system works correctly."
   ]
  }
 ],
 "metadata": {
  "kernelspec": {
   "display_name": "Python 3 (ipykernel)",
   "language": "python",
   "name": "python3"
  },
  "language_info": {
   "codemirror_mode": {
    "name": "ipython",
    "version": 3
   },
   "file_extension": ".py",
   "mimetype": "text/x-python",
   "name": "python",
   "nbconvert_exporter": "python",
   "pygments_lexer": "ipython3",
   "version": "3.8.10"
  }
 },
 "nbformat": 4,
 "nbformat_minor": 5
}
